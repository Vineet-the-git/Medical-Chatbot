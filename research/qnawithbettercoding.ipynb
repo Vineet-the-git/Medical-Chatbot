{
 "cells": [
  {
   "cell_type": "markdown",
   "id": "0a309f67-40ab-4ae6-9a24-80c8eeab6100",
   "metadata": {},
   "source": [
    "Name of the books:\n",
    "1. Medicine- Harrison's principle of internal medicine\n",
    "2. Surgery- love and bailey\n",
    "3. Paediatrics- Ghai essential pediatrics \n",
    "4. Dermatology- illustrated synopsis of dermatology and sexually transmitted diseases by Neena Khanna"
   ]
  },
  {
   "cell_type": "code",
   "execution_count": 1,
   "id": "65b8e659-d359-44fe-b334-52a6c2baff1d",
   "metadata": {},
   "outputs": [],
   "source": [
    "from langchain_community.document_loaders import PyPDFLoader, DirectoryLoader\n",
    "from langchain.text_splitter import RecursiveCharacterTextSplitter\n",
    "from langchain_community.embeddings import SentenceTransformerEmbeddings"
   ]
  },
  {
   "cell_type": "code",
   "execution_count": 2,
   "id": "846c5a0c-4a4f-4454-a595-5ac4d64a7a1e",
   "metadata": {},
   "outputs": [],
   "source": [
    "# Function to extract data from the pdf file\n",
    "def extract_data_from_pdf(data_dir):\n",
    "    \"\"\"\n",
    "    Function to extract data from the pdf file\n",
    "    \n",
    "    Args:\n",
    "    data_dir : str : Path to the directory containing the pdf files\n",
    "    \n",
    "    Returns:\n",
    "    documents : list : List of documents extracted from the pdf files\n",
    "    \"\"\"\n",
    "    \n",
    "    loader = DirectoryLoader(data_dir, glob = \"*.pdf\", loader_cls = PyPDFLoader)\n",
    "    documents = loader.load()\n",
    "    return documents"
   ]
  },
  {
   "cell_type": "code",
   "execution_count": 3,
   "id": "034ad368-fa8f-4f60-94b1-c4f1d878b3f5",
   "metadata": {},
   "outputs": [],
   "source": [
    "# Function to split the text into chunks\n",
    "def split_text_into_chunks(documents):\n",
    "    \"\"\"\n",
    "    Function to split the text into chunks\n",
    "    \n",
    "    Args:\n",
    "    documents : list : List of documents\n",
    "    \n",
    "    Returns:\n",
    "    chunks : list : List of chunks with text split into chunks\n",
    "    \"\"\"\n",
    "    \n",
    "    splitter = RecursiveCharacterTextSplitter(chunk_size = 500, chunk_overlap = 20)\n",
    "    chunks = splitter.split_documents(documents)\n",
    "    return chunks"
   ]
  },
  {
   "cell_type": "code",
   "execution_count": 4,
   "id": "10105cdc-58fb-4168-b299-679f5a6f2baa",
   "metadata": {},
   "outputs": [],
   "source": [
    "# Function to download the embedding model\n",
    "def download_embedding_model():\n",
    "    \"\"\"\n",
    "    Function to download the embedding model\n",
    "    \n",
    "    Args:\n",
    "    model_name : str : Name of the model to download\n",
    "    \n",
    "    Returns:\n",
    "    embeddings : object : Embedding model object\n",
    "    \"\"\"\n",
    "    \n",
    "    embeddings = SentenceTransformerEmbeddings(model_name=\"NeuML/pubmedbert-base-embeddings\")\n",
    "    return embeddings"
   ]
  },
  {
   "cell_type": "code",
   "execution_count": 2,
   "id": "9a33988d-4d4e-4185-8c0d-550695425342",
   "metadata": {},
   "outputs": [],
   "source": [
    "from langchain_pinecone.vectorstores import Pinecone\n",
    "from pinecone import Pinecone as pinecone\n",
    "from dotenv import load_dotenv\n",
    "import os"
   ]
  },
  {
   "cell_type": "code",
   "execution_count": 6,
   "id": "a885be9e-35d4-4276-b4c7-8e18339b1c07",
   "metadata": {},
   "outputs": [],
   "source": [
    "extracted_data = extract_data_from_pdf(data_dir=\"../data\")"
   ]
  },
  {
   "cell_type": "code",
   "execution_count": 7,
   "id": "0b82326a-b3fe-44dd-84b6-564c0845c38b",
   "metadata": {},
   "outputs": [],
   "source": [
    "text_chunks = split_text_into_chunks(extracted_data)"
   ]
  },
  {
   "cell_type": "code",
   "execution_count": 8,
   "id": "69823a2d-b93d-47f4-916b-55c563bfddc0",
   "metadata": {},
   "outputs": [
    {
     "data": {
      "text/plain": [
       "7020"
      ]
     },
     "execution_count": 8,
     "metadata": {},
     "output_type": "execute_result"
    }
   ],
   "source": [
    "len(text_chunks)"
   ]
  },
  {
   "cell_type": "code",
   "execution_count": 5,
   "id": "314d5e28-19f9-40af-9b21-61c8c12b4ee3",
   "metadata": {},
   "outputs": [
    {
     "name": "stderr",
     "output_type": "stream",
     "text": [
      "C:\\Users\\vinee\\Desktop\\Challenges\\Medical-Chatbot\\venv\\lib\\site-packages\\langchain_core\\_api\\deprecation.py:119: LangChainDeprecationWarning: The class `HuggingFaceEmbeddings` was deprecated in LangChain 0.2.2 and will be removed in 0.3.0. An updated version of the class exists in the langchain-huggingface package and should be used instead. To use it run `pip install -U langchain-huggingface` and import as `from langchain_huggingface import HuggingFaceEmbeddings`.\n",
      "  warn_deprecated(\n",
      "C:\\Users\\vinee\\Desktop\\Challenges\\Medical-Chatbot\\venv\\lib\\site-packages\\huggingface_hub\\file_download.py:1132: FutureWarning: `resume_download` is deprecated and will be removed in version 1.0.0. Downloads always resume when possible. If you want to force a new download, use `force_download=True`.\n",
      "  warnings.warn(\n"
     ]
    }
   ],
   "source": [
    "embeddings = download_embedding_model()"
   ]
  },
  {
   "cell_type": "code",
   "execution_count": 6,
   "id": "6ee4b751-6420-47be-ae67-ee08ce4a4dfa",
   "metadata": {},
   "outputs": [],
   "source": [
    "from langchain_pinecone import PineconeVectorStore"
   ]
  },
  {
   "cell_type": "code",
   "execution_count": 7,
   "id": "700253e3-2651-4aff-88df-5cba97300ead",
   "metadata": {},
   "outputs": [],
   "source": [
    "load_dotenv()\n",
    "PINECONE_API_KEY = \"e485b6b8-b6f4-4e95-b3b8-081584058e80\"\n",
    "PINECONE_API_ENV = \"us-east-1\"\n",
    "PINECONE_INDEX_NAME = \"medicine\""
   ]
  },
  {
   "cell_type": "code",
   "execution_count": 16,
   "id": "26adee07-deb3-498b-98ca-187a81650bc7",
   "metadata": {},
   "outputs": [],
   "source": [
    "vectorStore = PineconeVectorStore.from_texts([chunk.page_content for chunk in text_chunks], embeddings, index_name=PINECONE_INDEX_NAME)"
   ]
  },
  {
   "cell_type": "code",
   "execution_count": 13,
   "id": "5f6f6e66-fce0-4b9e-84be-b2f9d0299a10",
   "metadata": {},
   "outputs": [],
   "source": [
    "vectorStore = PineconeVectorStore(index_name=PINECONE_INDEX_NAME, embedding=embeddings)"
   ]
  },
  {
   "cell_type": "code",
   "execution_count": 8,
   "id": "598e74e8-ddb2-4672-bb61-e3fed943a244",
   "metadata": {},
   "outputs": [],
   "source": [
    "from langchain import PromptTemplate\n",
    "from langchain_community.llms import LlamaCpp\n",
    "from langchain.chains import RetrievalQA\n",
    "from langchain.chains import ConversationalRetrievalChain\n",
    "from langchain.prompts import SystemMessagePromptTemplate\n",
    "import os\n",
    "import json"
   ]
  },
  {
   "cell_type": "code",
   "execution_count": 14,
   "id": "e1943a9d-bf5d-4c88-b2aa-ece1b6a772ff",
   "metadata": {},
   "outputs": [],
   "source": [
    "local_llm = \"../models/BioMistral-7B.Q4_K_M.gguf\"\n",
    "llm = LlamaCpp(model_path= \n",
    "local_llm,temperature=0.3,max_tokens=4096,top_p=1,n_ctx= 4096, verbose=False)"
   ]
  },
  {
   "cell_type": "code",
   "execution_count": 15,
   "id": "ca357556-c24d-4616-930d-9721e2d84c62",
   "metadata": {},
   "outputs": [],
   "source": [
    "prompt_template = \"\"\"Use the following pieces of information to answer the user's question.\n",
    "If you don't know the answer, just say that you don't know, don't try to make up an answer.\n",
    "\n",
    "Chat History: {chat_history}\n",
    "Question: {question}\n",
    "\n",
    "Only return the helpful answer. Answer must be detailed and well explained.\n",
    "Helpful answer:\n",
    "\"\"\""
   ]
  },
  {
   "cell_type": "code",
   "execution_count": 16,
   "id": "f6a4d24f-9870-4bad-826d-4a6c62effafe",
   "metadata": {},
   "outputs": [],
   "source": [
    "retriever = vectorStore.as_retriever(search_kwargs={\"k\":3})"
   ]
  },
  {
   "cell_type": "code",
   "execution_count": 17,
   "id": "ddeee1df-9cef-4814-afe4-d85d3c0ba9da",
   "metadata": {},
   "outputs": [],
   "source": [
    "chat_history = []"
   ]
  },
  {
   "cell_type": "code",
   "execution_count": 18,
   "id": "65fcdecc-f8ec-4c25-b4f2-f176efdc15b2",
   "metadata": {},
   "outputs": [],
   "source": [
    " # Create the custom chain\n",
    "if llm is not None and retriever is not None:   \n",
    "    chain = ConversationalRetrievalChain.from_llm(llm=llm,retriever=retriever, prom)\t\n",
    "else:     \n",
    "    print(\"LLM or Vector Database not initialized\")"
   ]
  },
  {
   "cell_type": "code",
   "execution_count": 21,
   "id": "8ba6583f-fafc-463b-9df2-524fe6a793ca",
   "metadata": {},
   "outputs": [],
   "source": [
    "def predict(message, history):\n",
    "    history_langchain_format = []\n",
    "    prompt = PromptTemplate(template=prompt_template,\n",
    "    input_variables=[\"chat_history\", 'message'])\n",
    "    response = chain.invoke({\"question\": message, \"chat_history\": chat_history})\n",
    "    print(response.keys())\n",
    "    answer = response['answer']\n",
    "    chat_history.append((message, answer))\n",
    "    return answer"
   ]
  },
  {
   "cell_type": "code",
   "execution_count": 20,
   "id": "33d99306-d2df-42e2-80bd-6c098c23c6e4",
   "metadata": {},
   "outputs": [
    {
     "data": {
      "text/plain": [
       "' Diabetes is a disease that can affect the way your body uses sugar. There are two types of diabetes. Type 1 diabetes is caused by a problem with the insulin producing cells in the pancreas. Type 2 diabetes is caused by a combination of genetic and lifestyle factors, such as being overweight or obese.'"
      ]
     },
     "execution_count": 20,
     "metadata": {},
     "output_type": "execute_result"
    }
   ],
   "source": [
    "predict(\"What is diabetes?\", chat_history)"
   ]
  },
  {
   "cell_type": "code",
   "execution_count": 22,
   "id": "1b29a142-8918-49fd-a34e-498b796d863c",
   "metadata": {},
   "outputs": [
    {
     "name": "stdout",
     "output_type": "stream",
     "text": [
      "dict_keys(['question', 'chat_history', 'answer'])\n"
     ]
    },
    {
     "data": {
      "text/plain": [
       "'  Type I is caused by a deficiency of insulin production, while type II is characterized by insulin resistance. Treatment of type I diabetes is limited to insulin replacement, while type II diabetes is treatable by a number of therapeutic approaches. Many cases of insulin resistance are asymptomatic due to normal increases in insulin secretion, and others may be controlled by diet and exercise . Drug therapy may be directed towards hypertension, kidney disease, and diabetes than it is for overweight people with no health problems,” she said. People with diabetes taking insulin are at risk of becoming hypoglycemic if they do not eat appropriate carbohydrates. Also, persons who exercise regularly may experience low energy levels and muscle fatigue from low carbohydrate intake.'"
      ]
     },
     "execution_count": 22,
     "metadata": {},
     "output_type": "execute_result"
    }
   ],
   "source": [
    "predict(\"How can we prevent it?\", chat_history)"
   ]
  },
  {
   "cell_type": "code",
   "execution_count": 33,
   "id": "48a15e68-7d95-4f01-922b-3f5904314b32",
   "metadata": {},
   "outputs": [
    {
     "data": {
      "text/plain": [
       "' Yes, I can help with that. The reason why we have to ask for consent is because the patient has a right to know what is going on and they have a right to refuse treatment or they have a right to withdraw from treatment at any time.'"
      ]
     },
     "execution_count": 33,
     "metadata": {},
     "output_type": "execute_result"
    }
   ],
   "source": [
    "predict(\"Can you expand, the answer is incomplete\", chat_history)"
   ]
  },
  {
   "cell_type": "code",
   "execution_count": 24,
   "id": "ee256e7f-e94a-4a96-81a1-156fca947813",
   "metadata": {},
   "outputs": [
    {
     "name": "stdout",
     "output_type": "stream",
     "text": [
      "dict_keys(['question', 'chat_history', 'answer'])\n"
     ]
    },
    {
     "data": {
      "text/plain": [
       "' Cerebral stroke is a term describing a procedure used to restore blood flow and re-establish circulation in the brain after an obstruction, usually caused by a clot or blockage.'"
      ]
     },
     "execution_count": 24,
     "metadata": {},
     "output_type": "execute_result"
    }
   ],
   "source": [
    "predict(\"What is cerebral stroke?\", chat_history)"
   ]
  },
  {
   "cell_type": "code",
   "execution_count": 35,
   "id": "bcd7862f-9b2a-4f23-b9e8-323cf87cb771",
   "metadata": {},
   "outputs": [
    {
     "data": {
      "text/plain": [
       "'  There are several ways to prevent cerebral stroke, including controlling high blood pressure, quitting smoking, reducing alcohol intake, eating a healthy diet, and exercising regularly.'"
      ]
     },
     "execution_count": 35,
     "metadata": {},
     "output_type": "execute_result"
    }
   ],
   "source": [
    "predict(\"How can we prevent it?\", new_chat_history)"
   ]
  },
  {
   "cell_type": "code",
   "execution_count": 36,
   "id": "22fda11a-02e7-4841-9af6-ed49ad173133",
   "metadata": {},
   "outputs": [
    {
     "data": {
      "text/plain": [
       "' The purpose of an abdominal ultrasound is to examine the abdomen and organs within it, such as the liver, pancreas, spleen, kidneys, and bladder.'"
      ]
     },
     "execution_count": 36,
     "metadata": {},
     "output_type": "execute_result"
    }
   ],
   "source": [
    "predict(\"What is the purpose of abdominal ultrasound?\", new_chat_history)"
   ]
  },
  {
   "cell_type": "code",
   "execution_count": null,
   "id": "2f8bdbbe-1079-4877-8a67-4957c7223214",
   "metadata": {},
   "outputs": [],
   "source": []
  }
 ],
 "metadata": {
  "kernelspec": {
   "display_name": "Python 3 (ipykernel)",
   "language": "python",
   "name": "python3"
  },
  "language_info": {
   "codemirror_mode": {
    "name": "ipython",
    "version": 3
   },
   "file_extension": ".py",
   "mimetype": "text/x-python",
   "name": "python",
   "nbconvert_exporter": "python",
   "pygments_lexer": "ipython3",
   "version": "3.10.0"
  }
 },
 "nbformat": 4,
 "nbformat_minor": 5
}
